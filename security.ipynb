{
 "cells": [
  {
   "cell_type": "code",
   "execution_count": null,
   "metadata": {},
   "outputs": [
    {
     "name": "stdout",
     "output_type": "stream",
     "text": [
      "working\n",
      "Menu:\n",
      "1) Hash something.\n",
      "2) Unhash Something.\n",
      "md5\n",
      "md5\n",
      "Menu:\n",
      "1) Hash something.\n",
      "2) Unhash Something.\n",
      "1\n",
      "1\n",
      "Choose a hash algorithm:\n",
      "{'sha256', 'sha3_384', 'sha224', 'whirlpool', 'md5-sha1', 'sm3', 'sha1', 'sha3_224', 'blake2b', 'ripemd160', 'md5', 'sha512_256', 'mdc2', 'sha512_224', 'sha384', 'shake_256', 'sha3_512', 'blake2s', 'md4', 'sha3_256', 'sha512', 'shake_128'}\n",
      "md5\n",
      "What do you want to hash?\n",
      "mistress\n",
      "The hash is:\n",
      "b'mistress'\n",
      "1f216a224547d833dbba350ab8cf507c\n",
      "Menu:\n",
      "1) Hash something.\n",
      "2) Unhash Something.\n"
     ]
    }
   ],
   "source": [
    "import hashlib\n",
    "while True:\n",
    "    print(\"Menu:\")\n",
    "    print(\"1) Hash something.\")\n",
    "    print(\"2) Unhash Something.\")\n",
    "    print(\"3) See the dictionnary.\")\n",
    "    a = input() # to get input from the user\n",
    "    print(a)\n",
    "    if(a == \"1\"):\n",
    "        print(\"Choose a hash algorithm:\")\n",
    "        print(hashlib.algorithms_available) #lists all the available algorithms we can use\n",
    "        algo = input() #we'll have to check li el user input is fel algorithms_available\n",
    "        print(\"What do you want to hash?\")\n",
    "        toHash = input()\n",
    "        print(\"The hash is:\")\n",
    "        h = hashlib.new(algo) #creates an object that can hash stuff with the algorithm you give it\n",
    "        h.update(toHash.encode()) #update adds the stuff you want to hash, encode is because youhave to give it something binary, not a string\n",
    "        print(h.hexdigest()) #hexdigest gives you the hash.yeyyyyyy done\n",
    "    if(a == \"2\"):\n",
    "        \n",
    "        \n"
   ]
  },
  {
   "cell_type": "code",
   "execution_count": 2,
   "metadata": {},
   "outputs": [
    {
     "name": "stdout",
     "output_type": "stream",
     "text": [
      "1\n",
      "1\n"
     ]
    }
   ],
   "source": [
    "hashlib.sha224(b\"mistress\").hexdigest()"
   ]
  },
  {
   "cell_type": "code",
   "execution_count": null,
   "metadata": {},
   "outputs": [],
   "source": []
  }
 ],
 "metadata": {
  "kernelspec": {
   "display_name": "Python 3",
   "language": "python",
   "name": "python3"
  },
  "language_info": {
   "codemirror_mode": {
    "name": "ipython",
    "version": 3
   },
   "file_extension": ".py",
   "mimetype": "text/x-python",
   "name": "python",
   "nbconvert_exporter": "python",
   "pygments_lexer": "ipython3",
   "version": "3.8.1"
  }
 },
 "nbformat": 4,
 "nbformat_minor": 4
}
